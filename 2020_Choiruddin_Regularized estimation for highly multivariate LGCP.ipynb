{
 "metadata": {
  "language_info": {
   "codemirror_mode": {
    "name": "ipython",
    "version": 3
   },
   "file_extension": ".py",
   "mimetype": "text/x-python",
   "name": "python",
   "nbconvert_exporter": "python",
   "pygments_lexer": "ipython3",
   "version": 3
  },
  "orig_nbformat": 2
 },
 "nbformat": 4,
 "nbformat_minor": 2,
 "cells": [
  {
   "source": [
    "# Regularized estimation for highly multivariate log Gaussian Cox processes\n",
    "\n",
    "#### Choiruddin, Achmad, et al. \"Regularized estimation for highly multivariate log Gaussian Cox processes.\" Statistics and Computing 30.3 (2020): 649-662.\n",
    "\n",
    "## Abstract\n",
    "\n",
    "## 1. Introduction\n",
    "\n",
    "## 2. Multivariate log Gaussian Cox processes\n",
    "- A multivariate LGCP ( Moeller et al., 1998) : multivariate point process \n",
    "$$X = (X_1, ..., X_p), p > 1$$\n",
    "\n",
    "\n",
    "\n",
    "\n",
    "\n",
    "\n",
    "\n",
    "\n"
   ],
   "cell_type": "markdown",
   "metadata": {}
  }
 ]
}